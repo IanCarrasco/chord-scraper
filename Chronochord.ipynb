{
 "cells": [
  {
   "cell_type": "code",
   "execution_count": 12,
   "metadata": {
    "janus": {
     "all_versions_showing": false,
     "cell_hidden": false,
     "current_version": 0,
     "id": "d0821dd31045e",
     "named_versions": [],
     "output_hidden": false,
     "show_versions": false,
     "source_hidden": false,
     "versions": []
    }
   },
   "outputs": [],
   "source": [
    "%matplotlib inline\n",
    "import pandas as pd\n",
    "from tqdm import tqdm\n",
    "import matplotlib.pyplot as plt\n",
    "import numpy as np"
   ]
  },
  {
   "cell_type": "markdown",
   "metadata": {
    "janus": {
     "all_versions_showing": false,
     "cell_hidden": false,
     "current_version": 0,
     "id": "ca93f201d2ff2",
     "named_versions": [],
     "output_hidden": false,
     "show_versions": false,
     "source_hidden": false,
     "versions": []
    }
   },
   "source": [
    "# Dataset Statistics"
   ]
  },
  {
   "cell_type": "markdown",
   "metadata": {
    "janus": {
     "all_versions_showing": false,
     "cell_hidden": false,
     "current_version": 0,
     "id": "5d09b9c6740a8",
     "named_versions": [],
     "output_hidden": false,
     "show_versions": false,
     "source_hidden": false,
     "versions": []
    }
   },
   "source": [
    "### Distribution of Songs per Year"
   ]
  },
  {
   "cell_type": "code",
   "execution_count": 4,
   "metadata": {
    "janus": {
     "all_versions_showing": false,
     "cell_hidden": false,
     "current_version": 0,
     "id": "86a7c4e3eedc5",
     "named_versions": [],
     "output_hidden": false,
     "show_versions": false,
     "source_hidden": false,
     "versions": []
    },
    "scrolled": true
   },
   "outputs": [
    {
     "data": {
      "text/plain": [
       "array([[<matplotlib.axes._subplots.AxesSubplot object at 0x116912c50>]],\n",
       "      dtype=object)"
      ]
     },
     "execution_count": 4,
     "metadata": {},
     "output_type": "execute_result"
    },
    {
     "data": {
      "image/png": "[encoded data removed]",
      "text/plain": [
       "<Figure size 432x288 with 1 Axes>"
      ]
     },
     "metadata": {},
     "output_type": "display_data"
    }
   ],
   "source": [
    "df = pd.read_csv('chords.csv')\n",
    "df['Chords'] = df['Chords'].str[1:-1].replace(\"'\", '')\n",
    "df.hist(column='Year')"
   ]
  },
  {
   "cell_type": "code",
   "execution_count": 5,
   "metadata": {
    "janus": {
     "all_versions_showing": false,
     "cell_hidden": false,
     "current_version": 0,
     "id": "774f041d08b19",
     "named_versions": [],
     "output_hidden": false,
     "show_versions": false,
     "source_hidden": false,
     "versions": []
    },
    "scrolled": true
   },
   "outputs": [
    {
     "data": {
      "text/html": [
       "<div>\n",
       "<style scoped>\n",
       "    .dataframe tbody tr th:only-of-type {\n",
       "        vertical-align: middle;\n",
       "    }\n",
       "\n",
       "    .dataframe tbody tr th {\n",
       "        vertical-align: top;\n",
       "    }\n",
       "\n",
       "    .dataframe thead th {\n",
       "        text-align: right;\n",
       "    }\n",
       "</style>\n",
       "<table border=\"1\" class=\"dataframe\">\n",
       "  <thead>\n",
       "    <tr style=\"text-align: right;\">\n",
       "      <th></th>\n",
       "      <th>Artist</th>\n",
       "      <th>Track</th>\n",
       "      <th>Year</th>\n",
       "      <th>Chords</th>\n",
       "    </tr>\n",
       "  </thead>\n",
       "  <tbody>\n",
       "    <tr>\n",
       "      <th>0</th>\n",
       "      <td>Perez Prado And His Orchestra</td>\n",
       "      <td>Patricia</td>\n",
       "      <td>1950</td>\n",
       "      <td>'Am', 'Am', 'C', 'Dm', 'Em', 'Am', 'C', 'Dm', ...</td>\n",
       "    </tr>\n",
       "    <tr>\n",
       "      <th>1</th>\n",
       "      <td>Bobby Darin</td>\n",
       "      <td>Splish Splash</td>\n",
       "      <td>1950</td>\n",
       "      <td>'C', 'G7', 'C', 'F', 'C', 'G7', 'C', 'C', 'F',...</td>\n",
       "    </tr>\n",
       "    <tr>\n",
       "      <th>2</th>\n",
       "      <td>Kalin Twins</td>\n",
       "      <td>When</td>\n",
       "      <td>1950</td>\n",
       "      <td>'G', 'C', 'G', 'Em', 'G', 'G', 'D', 'C', 'C', ...</td>\n",
       "    </tr>\n",
       "    <tr>\n",
       "      <th>3</th>\n",
       "      <td>The Coasters</td>\n",
       "      <td>Yakety Yak</td>\n",
       "      <td>1950</td>\n",
       "      <td>'G', 'C', 'D7', 'G', 'G', 'G', 'C', 'D7', 'G',...</td>\n",
       "    </tr>\n",
       "    <tr>\n",
       "      <th>4</th>\n",
       "      <td>Jack Scott</td>\n",
       "      <td>My True Love</td>\n",
       "      <td>1950</td>\n",
       "      <td>'G', 'Em', 'C', 'D7', 'D7', 'G', 'Em', 'C', 'D...</td>\n",
       "    </tr>\n",
       "  </tbody>\n",
       "</table>\n",
       "</div>"
      ],
      "text/plain": [
       "                          Artist          Track  Year  \\\n",
       "0  Perez Prado And His Orchestra       Patricia  1950   \n",
       "1                    Bobby Darin  Splish Splash  1950   \n",
       "2                    Kalin Twins           When  1950   \n",
       "3                   The Coasters     Yakety Yak  1950   \n",
       "4                     Jack Scott   My True Love  1950   \n",
       "\n",
       "                                              Chords  \n",
       "0  'Am', 'Am', 'C', 'Dm', 'Em', 'Am', 'C', 'Dm', ...  \n",
       "1  'C', 'G7', 'C', 'F', 'C', 'G7', 'C', 'C', 'F',...  \n",
       "2  'G', 'C', 'G', 'Em', 'G', 'G', 'D', 'C', 'C', ...  \n",
       "3  'G', 'C', 'D7', 'G', 'G', 'G', 'C', 'D7', 'G',...  \n",
       "4  'G', 'Em', 'C', 'D7', 'D7', 'G', 'Em', 'C', 'D...  "
      ]
     },
     "execution_count": 5,
     "metadata": {},
     "output_type": "execute_result"
    }
   ],
   "source": [
    "df.head()"
   ]
  },
  {
   "cell_type": "markdown",
   "metadata": {
    "janus": {
     "all_versions_showing": false,
     "cell_hidden": false,
     "current_version": 0,
     "id": "5a1f202b60a5",
     "named_versions": [],
     "output_hidden": false,
     "show_versions": false,
     "source_hidden": false,
     "versions": []
    }
   },
   "source": [
    "### Distribution of Chords Across All Years"
   ]
  },
  {
   "cell_type": "code",
   "execution_count": 6,
   "metadata": {
    "janus": {
     "all_versions_showing": false,
     "cell_hidden": false,
     "current_version": 0,
     "id": "44edd3bc76494",
     "named_versions": [],
     "output_hidden": false,
     "show_versions": false,
     "source_hidden": false,
     "versions": []
    }
   },
   "outputs": [
    {
     "name": "stderr",
     "output_type": "stream",
     "text": [
      "100%|██████████| 2317/2317 [00:00<00:00, 5484.42it/s]\n"
     ]
    }
   ],
   "source": [
    "chords = {}\n",
    "for idx, row in tqdm(df.iterrows(), total=df.shape[0]):\n",
    "    for chord in row['Chords'].split(','):\n",
    "        chord = chord.replace(\"'\", '').lstrip().rstrip()\n",
    "        if chord in chords:\n",
    "            chords[chord] += 1\n",
    "        else:\n",
    "            chords[chord] = 1"
   ]
  },
  {
   "cell_type": "code",
   "execution_count": 54,
   "metadata": {
    "janus": {
     "all_versions_showing": false,
     "cell_hidden": false,
     "current_version": 0,
     "id": "c675e2d9a2854",
     "named_versions": [],
     "output_hidden": false,
     "show_versions": false,
     "source_hidden": false,
     "versions": []
    }
   },
   "outputs": [],
   "source": [
    "chords1 = sorted(chords.items(), key=lambda x: x[1])[::-1]\n",
    "\n",
    "chord_names = [x[0] for x in chords1][:20]\n",
    "chord_counts = [x[1] for x in chords1][:20]"
   ]
  },
  {
   "cell_type": "code",
   "execution_count": 56,
   "metadata": {
    "janus": {
     "all_versions_showing": false,
     "cell_hidden": false,
     "current_version": 0,
     "id": "e882618e31668",
     "named_versions": [],
     "output_hidden": false,
     "show_versions": false,
     "source_hidden": false,
     "versions": []
    },
    "scrolled": true
   },
   "outputs": [
    {
     "data": {
      "image/png": "[encoded data removed]",
      "text/plain": [
       "<Figure size 432x288 with 1 Axes>"
      ]
     },
     "metadata": {},
     "output_type": "display_data"
    }
   ],
   "source": [
    "indexes = np.arange(len(chord_names))\n",
    "width = 0.7\n",
    "plt.bar(indexes, chord_counts, 0.5)\n",
    "plt.xticks(indexes, chord_names, rotation=\"vertical\")\n",
    "plt.show()"
   ]
  },
  {
   "cell_type": "code",
   "execution_count": 72,
   "metadata": {
    "janus": {
     "all_versions_showing": false,
     "cell_hidden": false,
     "current_version": 0,
     "id": "8ba7765d6277f",
     "named_versions": [],
     "output_hidden": false,
     "show_versions": false,
     "source_hidden": false,
     "versions": []
    }
   },
   "outputs": [],
   "source": [
    "df50 = df[df['Year'] == 2018]"
   ]
  },
  {
   "cell_type": "code",
   "execution_count": 73,
   "metadata": {
    "janus": {
     "all_versions_showing": false,
     "cell_hidden": false,
     "current_version": 0,
     "id": "d59d3f87cf4ac",
     "named_versions": [],
     "output_hidden": false,
     "show_versions": false,
     "source_hidden": false,
     "versions": []
    }
   },
   "outputs": [
    {
     "name": "stderr",
     "output_type": "stream",
     "text": [
      "100%|██████████| 46/46 [00:00<00:00, 4436.27it/s]\n"
     ]
    }
   ],
   "source": [
    "chords50 = {}\n",
    "for idx, row in tqdm(df50.iterrows(), total=df50.shape[0]):\n",
    "    for chord in row['Chords'].split(','):\n",
    "        chord = chord.replace(\"'\", '').lstrip().rstrip()\n",
    "        if chord in chords50 :\n",
    "            chords50[chord] += 1\n",
    "        else:\n",
    "            chords50[chord] = 1"
   ]
  },
  {
   "cell_type": "code",
   "execution_count": 74,
   "metadata": {
    "janus": {
     "all_versions_showing": false,
     "cell_hidden": false,
     "current_version": 0,
     "id": "57b32194d40d4",
     "named_versions": [],
     "output_hidden": false,
     "show_versions": false,
     "source_hidden": false,
     "versions": []
    }
   },
   "outputs": [],
   "source": [
    "chords50 = sorted(chords50.items(), key=lambda x: x[1])[::-1]\n",
    "\n",
    "chord_names50 = [x[0] for x in chords50][:20]\n",
    "chord_counts50 = [x[1] for x in chords50][:20]"
   ]
  },
  {
   "cell_type": "code",
   "execution_count": 76,
   "metadata": {
    "janus": {
     "all_versions_showing": false,
     "cell_hidden": false,
     "current_version": 0,
     "id": "68c374dd34fc8",
     "named_versions": [],
     "output_hidden": false,
     "show_versions": false,
     "source_hidden": false,
     "versions": []
    }
   },
   "outputs": [
    {
     "data": {
      "image/png": "[encoded data removed]",
      "text/plain": [
       "<Figure size 432x288 with 1 Axes>"
      ]
     },
     "metadata": {},
     "output_type": "display_data"
    }
   ],
   "source": [
    "indexes = np.arange(len(chord_names50))\n",
    "width = 0.7\n",
    "plt.bar(indexes, chord_counts50, 0.5)\n",
    "plt.xticks(indexes, chord_names50, rotation=\"vertical\")\n",
    "plt.title('2018 Chord Distribution')\n",
    "plt.show()"
   ]
  },
  {
   "cell_type": "code",
   "execution_count": null,
   "metadata": {
    "janus": {
     "all_versions_showing": false,
     "cell_hidden": false,
     "current_version": 0,
     "id": "d1bc8194b1e5c",
     "named_versions": [],
     "output_hidden": false,
     "show_versions": false,
     "source_hidden": false,
     "versions": []
    }
   },
   "outputs": [],
   "source": []
  }
 ],
 "metadata": {
  "janus": {
   "filepaths": [
    [
     "316591bf",
     1557304452627,
     1557333260691
    ],
    [
     "ff9100b9",
     1557333318437,
     1557333318437
    ]
   ],
   "janus_markers": [],
   "track_history": true
  },
  "kernelspec": {
   "display_name": "Python 3",
   "language": "python",
   "name": "python3"
  },
  "language_info": {
   "codemirror_mode": {
    "name": "ipython",
    "version": 3
   },
   "file_extension": ".py",
   "mimetype": "text/x-python",
   "name": "python",
   "nbconvert_exporter": "python",
   "pygments_lexer": "ipython3",
   "version": "3.6.3"
  }
 },
 "nbformat": 4,
 "nbformat_minor": 2
}
